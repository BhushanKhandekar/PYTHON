{
 "cells": [
  {
   "cell_type": "markdown",
   "id": "10b8ed65-80cb-4e4e-8900-2e53c83e7a4b",
   "metadata": {},
   "source": [
    "# LIST"
   ]
  },
  {
   "cell_type": "markdown",
   "id": "fabb614a-390a-4d7a-9faf-c23fb4dfab6d",
   "metadata": {},
   "source": [
    "### WHAT IS LIST ?\n",
    "- A list is a ordered collection of similar or different data items that is Iterable, mutable, indexed & can have duplicate items enclosed in [ ] separate by commas."
   ]
  },
  {
   "cell_type": "markdown",
   "id": "cbf64ad2-3ff1-4b06-8719-24f93f508a3b",
   "metadata": {},
   "source": [
    "### FEATURES\n",
    "- Items in a list are ordered.\n",
    "- List can store items of various types.\n",
    "- List items are enclosed in square brackets separated by commas..\n",
    "- Items in a list are indexed. \n",
    "- Items in a list are mutable.\n",
    "- A list can have duplicate items."
   ]
  },
  {
   "cell_type": "markdown",
   "id": "b4e58e4b-91a4-4319-aaba-25343b9824e5",
   "metadata": {},
   "source": [
    "### CREATE LIST"
   ]
  },
  {
   "cell_type": "code",
   "execution_count": 6,
   "id": "5047241f-62b4-4b9f-9950-9900e23f8a98",
   "metadata": {},
   "outputs": [
    {
     "name": "stdout",
     "output_type": "stream",
     "text": [
      "L1 = [1, 2, 3, 4, 5]\n"
     ]
    }
   ],
   "source": [
    "# LIST OF 5 NATURAL NUMBERS\n",
    "L1 = [1, 2, 3, 4, 5]\n",
    "print(f'L1 = {L1}')"
   ]
  },
  {
   "cell_type": "code",
   "execution_count": 7,
   "id": "8702146f-1e8f-4f6e-8425-5fd54e8c5eec",
   "metadata": {},
   "outputs": [
    {
     "name": "stdout",
     "output_type": "stream",
     "text": [
      "L2 = []\n"
     ]
    }
   ],
   "source": [
    "# AN EMPTY LIST\n",
    "L2 = []\n",
    "print(f'L2 = {L2}')"
   ]
  },
  {
   "cell_type": "code",
   "execution_count": 8,
   "id": "693e7f53-68ed-44e8-ac18-8ed53b277b29",
   "metadata": {},
   "outputs": [
    {
     "name": "stdout",
     "output_type": "stream",
     "text": [
      "L3 = [1, 2, 2, 3, 3, 3, 4]\n"
     ]
    }
   ],
   "source": [
    "# LIST OF DUPLICATE ITEMS\n",
    "L3 = [1, 2, 2, 3, 3, 3, 4]\n",
    "print(f'L3 = {L3}')"
   ]
  },
  {
   "cell_type": "code",
   "execution_count": 9,
   "id": "0bec7cfd-a3d6-45f6-9b6a-c980600e72ac",
   "metadata": {},
   "outputs": [
    {
     "name": "stdout",
     "output_type": "stream",
     "text": [
      "L4 = [1, 2, 'Go', 'Come', [3, 4], ['Bhushan', 'Akshay']]\n"
     ]
    }
   ],
   "source": [
    "# LIST OF SIMILAR OR DIFFERENT TYPE OF DATA ITEMS\n",
    "L4 = [1, 2, 'Go', 'Come', [3, 4], ['Bhushan', 'Akshay']]\n",
    "print(f'L4 = {L4}')"
   ]
  },
  {
   "cell_type": "markdown",
   "id": "6856b0d7-65df-49da-9a2e-05f90f47306b",
   "metadata": {},
   "source": [
    "### ACCESSING ITEMS\n",
    "- Access using index o an item.\n",
    "- SYNTAX : list_name[index]"
   ]
  },
  {
   "cell_type": "markdown",
   "id": "b1e0baf0-ba46-4ed0-8c24-34f499276133",
   "metadata": {},
   "source": [
    "##### SINGLE-DIMENSIONAL LIST"
   ]
  },
  {
   "cell_type": "code",
   "execution_count": 12,
   "id": "e9a5b3f3-632f-42af-bc2c-406458527ddf",
   "metadata": {},
   "outputs": [
    {
     "name": "stdout",
     "output_type": "stream",
     "text": [
      "mylist01 = [5, 10, 15, 20]\n"
     ]
    }
   ],
   "source": [
    "# LIST OF MULTIPLES OF 5\n",
    "mylist01 = [5, 10, 15, 20]\n",
    "print(f'mylist01 = {L1}')"
   ]
  },
  {
   "cell_type": "code",
   "execution_count": 13,
   "id": "8041afef-7066-4fe4-b0c9-3ae764adb3f0",
   "metadata": {},
   "outputs": [
    {
     "name": "stdout",
     "output_type": "stream",
     "text": [
      "mylist01[0] = 5\n",
      "mylist01[1] = 10\n",
      "mylist01[2] = 15\n",
      "mylist01[3] = 20\n"
     ]
    }
   ],
   "source": [
    "# POSITIVE INDEX\n",
    "print (f'mylist01[0] = {mylist01[0]}')\n",
    "print (f'mylist01[1] = {mylist01[1]}')\n",
    "print (f'mylist01[2] = {mylist01[2]}')\n",
    "print (f'mylist01[3] = {mylist01[3]}')"
   ]
  },
  {
   "cell_type": "code",
   "execution_count": 14,
   "id": "3f40d8ba-8032-4e83-b514-428e54f01d8f",
   "metadata": {},
   "outputs": [
    {
     "name": "stdout",
     "output_type": "stream",
     "text": [
      "mylist01[-4] = 5\n",
      "mylist01[-3] = 10\n",
      "mylist01[-2] = 15\n",
      "mylist01[-1] = 20\n"
     ]
    }
   ],
   "source": [
    "# NEGATIVE INDEX\n",
    "print (f'mylist01[-4] = {mylist01[-4]}')\n",
    "print (f'mylist01[-3] = {mylist01[-3]}')\n",
    "print (f'mylist01[-2] = {mylist01[-2]}')\n",
    "print (f'mylist01[-1] = {mylist01[-1]}')"
   ]
  },
  {
   "cell_type": "markdown",
   "id": "de6a990c-4bf6-411c-9a68-f80d6d32074d",
   "metadata": {},
   "source": [
    "##### MULTI-DIMENSIONAL LIST"
   ]
  },
  {
   "cell_type": "code",
   "execution_count": 15,
   "id": "1a0b5e7c-db8e-45d1-8d26-1c03041226ed",
   "metadata": {},
   "outputs": [
    {
     "name": "stdout",
     "output_type": "stream",
     "text": [
      "mylist02 = [[1, 2, 3], 'Good', [4, 5, 6]]\n"
     ]
    }
   ],
   "source": [
    "# LIST OF SIMILAR OR DIFFERENT TYPES OF DATA ITEMS\n",
    "mylist02 = [[1, 2, 3], 'Good', [4, 5, 6]]\n",
    "print ( f\"mylist02 = {mylist02}\" )"
   ]
  },
  {
   "cell_type": "code",
   "execution_count": 17,
   "id": "6879ef92-0373-4f79-93fd-6e64012fc782",
   "metadata": {},
   "outputs": [
    {
     "name": "stdout",
     "output_type": "stream",
     "text": [
      "mylist02[0] = [1, 2, 3]\n",
      "mylist02[0][0] = 1\n",
      "mylist02[0][1] = 2\n",
      "mylist02[0][2] = 3\n"
     ]
    }
   ],
   "source": [
    "print (f'mylist02[0] = {mylist02[0]}')\n",
    "print (f'mylist02[0][0] = {mylist02[0][0]}')\n",
    "print (f'mylist02[0][1] = {mylist02[0][1]}')\n",
    "print (f'mylist02[0][2] = {mylist02[0][2]}')"
   ]
  },
  {
   "cell_type": "code",
   "execution_count": 18,
   "id": "34975c25-274b-4b9a-949b-9abeeba7451e",
   "metadata": {},
   "outputs": [
    {
     "name": "stdout",
     "output_type": "stream",
     "text": [
      "mylist02[1] = Good\n",
      "mylist02[1][0] = G\n",
      "mylist02[1][1] = o\n",
      "mylist02[1][2] = o\n",
      "mylist02[1][3] = d\n"
     ]
    }
   ],
   "source": [
    "print (f'mylist02[1] = {mylist02[1]}')\n",
    "print (f'mylist02[1][0] = {mylist02[1][0]}')\n",
    "print (f'mylist02[1][1] = {mylist02[1][1]}')\n",
    "print (f'mylist02[1][2] = {mylist02[1][2]}')\n",
    "print (f'mylist02[1][3] = {mylist02[1][3]}')"
   ]
  },
  {
   "cell_type": "code",
   "execution_count": 19,
   "id": "3e4eef5c-81d4-4b75-9dd3-fb58db1a0435",
   "metadata": {},
   "outputs": [
    {
     "name": "stdout",
     "output_type": "stream",
     "text": [
      "mylist02[2] = [4, 5, 6]\n",
      "mylist02[2][0] = 4\n",
      "mylist02[2][1] = 5\n",
      "mylist02[2][2] = 6\n"
     ]
    }
   ],
   "source": [
    "print (f'mylist02[2] = {mylist02[2]}')\n",
    "print (f'mylist02[2][0] = {mylist02[2][0]}')\n",
    "print (f'mylist02[2][1] = {mylist02[2][1]}')\n",
    "print (f'mylist02[2][2] = {mylist02[2][2]}')"
   ]
  },
  {
   "cell_type": "code",
   "execution_count": 20,
   "id": "a34dd2ef-908b-4a1b-9d5b-e8da6aa99fe3",
   "metadata": {},
   "outputs": [
    {
     "name": "stdout",
     "output_type": "stream",
     "text": [
      "my_list03[1][0][1] = b\n"
     ]
    }
   ],
   "source": [
    "# # Example : How to Access Element 'b' in the list ?\n",
    "my_list03 = [[1, 2, 3], [['a', 'b', 'c'], 4, 5], 6]\n",
    "print (f\"my_list03[1][0][1] = {my_list03[1][0][1]}\")"
   ]
  },
  {
   "cell_type": "code",
   "execution_count": null,
   "id": "c9c6ebf6-0b9b-4790-ab19-b0d83a24753b",
   "metadata": {},
   "outputs": [],
   "source": []
  }
 ],
 "metadata": {
  "kernelspec": {
   "display_name": "Python 3 (ipykernel)",
   "language": "python",
   "name": "python3"
  },
  "language_info": {
   "codemirror_mode": {
    "name": "ipython",
    "version": 3
   },
   "file_extension": ".py",
   "mimetype": "text/x-python",
   "name": "python",
   "nbconvert_exporter": "python",
   "pygments_lexer": "ipython3",
   "version": "3.12.4"
  }
 },
 "nbformat": 4,
 "nbformat_minor": 5
}
