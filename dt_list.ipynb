{
 "cells": [
  {
   "cell_type": "markdown",
   "id": "10b8ed65-80cb-4e4e-8900-2e53c83e7a4b",
   "metadata": {},
   "source": [
    "# LIST"
   ]
  },
  {
   "cell_type": "markdown",
   "id": "fabb614a-390a-4d7a-9faf-c23fb4dfab6d",
   "metadata": {},
   "source": [
    "### WHAT IS LIST ?\n",
    "- A list is a ordered collection of similar or different data items that is Iterable, mutable, indexed & can have duplicate items enclosed in [ ] separate by commas."
   ]
  },
  {
   "cell_type": "markdown",
   "id": "cbf64ad2-3ff1-4b06-8719-24f93f508a3b",
   "metadata": {},
   "source": [
    "### FEATURES\n",
    "- Items in a list are ordered.\n",
    "- List can store items of various types.\n",
    "- List items are enclosed in square brackets separated by commas..\n",
    "- Items in a list are indexed. \n",
    "- Items in a list are mutable.\n",
    "- A list can have duplicate items."
   ]
  },
  {
   "cell_type": "markdown",
   "id": "b4e58e4b-91a4-4319-aaba-25343b9824e5",
   "metadata": {},
   "source": [
    "### CREATE LIST"
   ]
  },
  {
   "cell_type": "code",
   "execution_count": 6,
   "id": "5047241f-62b4-4b9f-9950-9900e23f8a98",
   "metadata": {},
   "outputs": [
    {
     "name": "stdout",
     "output_type": "stream",
     "text": [
      "L1 = [1, 2, 3, 4, 5]\n"
     ]
    }
   ],
   "source": [
    "# LIST OF 5 NATURAL NUMBERS\n",
    "L1 = [1, 2, 3, 4, 5]\n",
    "print(f'L1 = {L1}')"
   ]
  },
  {
   "cell_type": "code",
   "execution_count": 7,
   "id": "8702146f-1e8f-4f6e-8425-5fd54e8c5eec",
   "metadata": {},
   "outputs": [
    {
     "name": "stdout",
     "output_type": "stream",
     "text": [
      "L2 = []\n"
     ]
    }
   ],
   "source": [
    "# AN EMPTY LIST\n",
    "L2 = []\n",
    "print(f'L2 = {L2}')"
   ]
  },
  {
   "cell_type": "code",
   "execution_count": 8,
   "id": "693e7f53-68ed-44e8-ac18-8ed53b277b29",
   "metadata": {},
   "outputs": [
    {
     "name": "stdout",
     "output_type": "stream",
     "text": [
      "L3 = [1, 2, 2, 3, 3, 3, 4]\n"
     ]
    }
   ],
   "source": [
    "# LIST OF DUPLICATE ITEMS\n",
    "L3 = [1, 2, 2, 3, 3, 3, 4]\n",
    "print(f'L3 = {L3}')"
   ]
  },
  {
   "cell_type": "code",
   "execution_count": 9,
   "id": "0bec7cfd-a3d6-45f6-9b6a-c980600e72ac",
   "metadata": {},
   "outputs": [
    {
     "name": "stdout",
     "output_type": "stream",
     "text": [
      "L4 = [1, 2, 'Go', 'Come', [3, 4], ['Bhushan', 'Akshay']]\n"
     ]
    }
   ],
   "source": [
    "# LIST OF SIMILAR OR DIFFERENT TYPE OF DATA ITEMS\n",
    "L4 = [1, 2, 'Go', 'Come', [3, 4], ['Bhushan', 'Akshay']]\n",
    "print(f'L4 = {L4}')"
   ]
  },
  {
   "cell_type": "markdown",
   "id": "6856b0d7-65df-49da-9a2e-05f90f47306b",
   "metadata": {},
   "source": [
    "### ACCESSING ITEMS\n",
    "- Access using index o an item.\n",
    "- SYNTAX : list_name[index]"
   ]
  },
  {
   "cell_type": "markdown",
   "id": "b1e0baf0-ba46-4ed0-8c24-34f499276133",
   "metadata": {},
   "source": [
    "##### SINGLE DIMENSIONAL LIST"
   ]
  },
  {
   "cell_type": "code",
   "execution_count": 12,
   "id": "e9a5b3f3-632f-42af-bc2c-406458527ddf",
   "metadata": {},
   "outputs": [
    {
     "name": "stdout",
     "output_type": "stream",
     "text": [
      "mylist01 = [5, 10, 15, 20]\n"
     ]
    }
   ],
   "source": [
    "# LIST OF MULTIPLES OF 5\n",
    "mylist01 = [5, 10, 15, 20]\n",
    "print(f'mylist01 = {L1}')"
   ]
  },
  {
   "cell_type": "code",
   "execution_count": 13,
   "id": "8041afef-7066-4fe4-b0c9-3ae764adb3f0",
   "metadata": {},
   "outputs": [
    {
     "name": "stdout",
     "output_type": "stream",
     "text": [
      "mylist01[0] = 5\n",
      "mylist01[1] = 10\n",
      "mylist01[2] = 15\n",
      "mylist01[3] = 20\n"
     ]
    }
   ],
   "source": [
    "# POSITIVE INDEX\n",
    "print (f'mylist01[0] = {mylist01[0]}')\n",
    "print (f'mylist01[1] = {mylist01[1]}')\n",
    "print (f'mylist01[2] = {mylist01[2]}')\n",
    "print (f'mylist01[3] = {mylist01[3]}')"
   ]
  },
  {
   "cell_type": "code",
   "execution_count": 14,
   "id": "3f40d8ba-8032-4e83-b514-428e54f01d8f",
   "metadata": {},
   "outputs": [
    {
     "name": "stdout",
     "output_type": "stream",
     "text": [
      "mylist01[-4] = 5\n",
      "mylist01[-3] = 10\n",
      "mylist01[-2] = 15\n",
      "mylist01[-1] = 20\n"
     ]
    }
   ],
   "source": [
    "# NEGATIVE INDEX\n",
    "print (f'mylist01[-4] = {mylist01[-4]}')\n",
    "print (f'mylist01[-3] = {mylist01[-3]}')\n",
    "print (f'mylist01[-2] = {mylist01[-2]}')\n",
    "print (f'mylist01[-1] = {mylist01[-1]}')"
   ]
  },
  {
   "cell_type": "markdown",
   "id": "de6a990c-4bf6-411c-9a68-f80d6d32074d",
   "metadata": {},
   "source": [
    "##### MULTI-DIMENSIONAL LIST"
   ]
  },
  {
   "cell_type": "code",
   "execution_count": 15,
   "id": "1a0b5e7c-db8e-45d1-8d26-1c03041226ed",
   "metadata": {},
   "outputs": [
    {
     "name": "stdout",
     "output_type": "stream",
     "text": [
      "mylist02 = [[1, 2, 3], 'Good', [4, 5, 6]]\n"
     ]
    }
   ],
   "source": [
    "# LIST OF SIMILAR OR DIFFERENT TYPES OF DATA ITEMS\n",
    "mylist02 = [[1, 2, 3], 'Good', [4, 5, 6]]\n",
    "print ( f\"mylist02 = {mylist02}\" )"
   ]
  },
  {
   "cell_type": "code",
   "execution_count": 17,
   "id": "6879ef92-0373-4f79-93fd-6e64012fc782",
   "metadata": {},
   "outputs": [
    {
     "name": "stdout",
     "output_type": "stream",
     "text": [
      "mylist02[0] = [1, 2, 3]\n",
      "mylist02[0][0] = 1\n",
      "mylist02[0][1] = 2\n",
      "mylist02[0][2] = 3\n"
     ]
    }
   ],
   "source": [
    "print (f'mylist02[0] = {mylist02[0]}')\n",
    "print (f'mylist02[0][0] = {mylist02[0][0]}')\n",
    "print (f'mylist02[0][1] = {mylist02[0][1]}')\n",
    "print (f'mylist02[0][2] = {mylist02[0][2]}')"
   ]
  },
  {
   "cell_type": "code",
   "execution_count": 18,
   "id": "34975c25-274b-4b9a-949b-9abeeba7451e",
   "metadata": {},
   "outputs": [
    {
     "name": "stdout",
     "output_type": "stream",
     "text": [
      "mylist02[1] = Good\n",
      "mylist02[1][0] = G\n",
      "mylist02[1][1] = o\n",
      "mylist02[1][2] = o\n",
      "mylist02[1][3] = d\n"
     ]
    }
   ],
   "source": [
    "print (f'mylist02[1] = {mylist02[1]}')\n",
    "print (f'mylist02[1][0] = {mylist02[1][0]}')\n",
    "print (f'mylist02[1][1] = {mylist02[1][1]}')\n",
    "print (f'mylist02[1][2] = {mylist02[1][2]}')\n",
    "print (f'mylist02[1][3] = {mylist02[1][3]}')"
   ]
  },
  {
   "cell_type": "code",
   "execution_count": 19,
   "id": "3e4eef5c-81d4-4b75-9dd3-fb58db1a0435",
   "metadata": {},
   "outputs": [
    {
     "name": "stdout",
     "output_type": "stream",
     "text": [
      "mylist02[2] = [4, 5, 6]\n",
      "mylist02[2][0] = 4\n",
      "mylist02[2][1] = 5\n",
      "mylist02[2][2] = 6\n"
     ]
    }
   ],
   "source": [
    "print (f'mylist02[2] = {mylist02[2]}')\n",
    "print (f'mylist02[2][0] = {mylist02[2][0]}')\n",
    "print (f'mylist02[2][1] = {mylist02[2][1]}')\n",
    "print (f'mylist02[2][2] = {mylist02[2][2]}')"
   ]
  },
  {
   "cell_type": "code",
   "execution_count": 20,
   "id": "a34dd2ef-908b-4a1b-9d5b-e8da6aa99fe3",
   "metadata": {},
   "outputs": [
    {
     "name": "stdout",
     "output_type": "stream",
     "text": [
      "my_list03[1][0][1] = b\n"
     ]
    }
   ],
   "source": [
    "# # Example : How to Access Element 'b' in the list ?\n",
    "my_list03 = [[1, 2, 3], [['a', 'b', 'c'], 4, 5], 6]\n",
    "print (f\"my_list03[1][0][1] = {my_list03[1][0][1]}\")"
   ]
  },
  {
   "cell_type": "markdown",
   "id": "f3a11e92-65eb-405b-89f9-646962794dba",
   "metadata": {},
   "source": [
    "### ADD AN ITEM\n",
    "###### SINGLE ITEM\n",
    "- append()\n",
    "- insert()\n",
    "- extend()\n",
    "###### MULTIPLE ITEMS\n",
    "- loop\n",
    "- split()\n",
    "- loop & split()"
   ]
  },
  {
   "cell_type": "markdown",
   "id": "d5be29dc-3f9a-41b4-bd56-6a1b92195de3",
   "metadata": {},
   "source": [
    "##### APPEND METHOD\n",
    "- Add an item at the end of list. ( only 1 item )\n",
    "- SYNTAX : list_name.append ( item )"
   ]
  },
  {
   "cell_type": "code",
   "execution_count": 27,
   "id": "0fb68979-d99a-4952-8194-8f072a6ebde0",
   "metadata": {},
   "outputs": [
    {
     "name": "stdout",
     "output_type": "stream",
     "text": [
      "mylist1 = [1, 2, 3, 'Bhushan']\n"
     ]
    }
   ],
   "source": [
    "mylist1 = [1, 2, 3]\n",
    "mylist1.append('Bhushan')\n",
    "print(f'mylist1 = {mylist1}')"
   ]
  },
  {
   "cell_type": "markdown",
   "id": "b1621ea8-c218-447b-8669-8085b5051ac5",
   "metadata": {},
   "source": [
    "##### INSERT METHOD\n",
    "- Add an item at the speciic index.\n",
    "- SYNTAX : list_name.insert ( index , value )"
   ]
  },
  {
   "cell_type": "code",
   "execution_count": 28,
   "id": "e8d8ec25-58fa-4e62-a20a-d274c9bd2ea7",
   "metadata": {},
   "outputs": [
    {
     "name": "stdout",
     "output_type": "stream",
     "text": [
      "mylist2 = [1, 'Akshay', 2, 3]\n"
     ]
    }
   ],
   "source": [
    "mylist2 = [1, 2, 3]\n",
    "mylist2.insert(1,'Akshay')\n",
    "print(f'mylist2 = {mylist2}')"
   ]
  },
  {
   "cell_type": "markdown",
   "id": "d27d1373-6962-41e5-b026-7c5b976eacb6",
   "metadata": {},
   "source": [
    "##### EXTEND METHOD\n",
    "- Add an items of given list to existing list.\n",
    "- SYNTAX : list_name.extend ( iterable item )\n",
    "- Iterable Items : string, list, tuple, dictionary, set, frozenset."
   ]
  },
  {
   "cell_type": "code",
   "execution_count": 32,
   "id": "eac02b1f-4a04-4af6-995d-5bfb1fa05a87",
   "metadata": {},
   "outputs": [
    {
     "name": "stdout",
     "output_type": "stream",
     "text": [
      "mylist = [1, 2, 3, 'Bhushan', 'Akshay']\n"
     ]
    }
   ],
   "source": [
    "mylist3 = [1, 2, 3]\n",
    "mylist3.extend (['Bhushan','Akshay'])\n",
    "print(f'mylist = {mylist3}')"
   ]
  },
  {
   "cell_type": "markdown",
   "id": "318528a1-a542-4b25-9e1c-4a86c22f436c",
   "metadata": {},
   "source": [
    "##### LOOP"
   ]
  },
  {
   "cell_type": "code",
   "execution_count": 51,
   "id": "ce3925f7-fd8a-405b-807e-d0c350e4ac24",
   "metadata": {},
   "outputs": [
    {
     "name": "stdin",
     "output_type": "stream",
     "text": [
      "ENTER THE NUMBER OF ELEMENTS :  2\n",
      "ENTER NUMBER :  1\n",
      "ENTER NUMBER :  2\n"
     ]
    },
    {
     "name": "stdout",
     "output_type": "stream",
     "text": [
      "numbers = [1, 2]\n"
     ]
    }
   ],
   "source": [
    "n=int(input('ENTER THE NUMBER OF ELEMENTS : '))\n",
    "numbers = []\n",
    "for i in range(n) :\n",
    "    x = int(input('ENTER NUMBER : '))\n",
    "    numbers.append(x)\n",
    "print(f'numbers = {numbers}')"
   ]
  },
  {
   "cell_type": "markdown",
   "id": "87c8e8ba-7d08-4f67-90de-3350a810ae94",
   "metadata": {},
   "source": [
    "##### SPLIT METHOD\n",
    "- Splits a string into list of substring.\n",
    "- SYNTAX : string.split() OR\n",
    "- SYNTAX : string.split ( separator,maxsplit )"
   ]
  },
  {
   "cell_type": "code",
   "execution_count": 47,
   "id": "bea6008b-505a-4abc-962a-55f5145560a6",
   "metadata": {},
   "outputs": [
    {
     "name": "stdin",
     "output_type": "stream",
     "text": [
      "ENTER NUMBERS :  1 2 3\n"
     ]
    },
    {
     "name": "stdout",
     "output_type": "stream",
     "text": [
      "numbers = ['1', '2', '3']\n"
     ]
    }
   ],
   "source": [
    "# input () : Convert input to string\n",
    "numbers = input('ENTER NUMBERS : ').split()\n",
    "print(f'numbers = {numbers}')"
   ]
  },
  {
   "cell_type": "markdown",
   "id": "48695b8c-b109-4b9a-bcac-268fac5afdab",
   "metadata": {},
   "source": [
    "##### SPLIT METHOD & FOR LOOP "
   ]
  },
  {
   "cell_type": "code",
   "execution_count": 52,
   "id": "724e5a06-bbb0-440a-a138-19d03fda3176",
   "metadata": {},
   "outputs": [
    {
     "name": "stdin",
     "output_type": "stream",
     "text": [
      "ENTER NUMBER OF ELEMENTS :  2\n",
      "ENTER 2 NUMBERS :  1 2\n"
     ]
    },
    {
     "name": "stdout",
     "output_type": "stream",
     "text": [
      "numbers = ['1', '2']\n",
      "numbers = [1, 2]\n"
     ]
    }
   ],
   "source": [
    "n = int(input('ENTER NUMBER OF ELEMENTS : '))\n",
    "numbers = input(f'ENTER {n} NUMBERS : ').split()\n",
    "print(f'numbers = {numbers}')\n",
    "for i in range(0,n) :\n",
    "    numbers[i] = int(numbers[i]) \n",
    "print(f'numbers = {numbers}')"
   ]
  },
  {
   "cell_type": "markdown",
   "id": "ec35cd1c-1e42-4c04-be5d-3c1a6c96775b",
   "metadata": {},
   "source": [
    "### UPDATE AN ITEM"
   ]
  },
  {
   "cell_type": "markdown",
   "id": "78ffcdad-5dc5-4fdd-a769-4d0445122c9f",
   "metadata": {},
   "source": [
    "##### SINGLE ITEM : BY REFER TO INDEX OF AN ITEM\n",
    "- SYNTAX : list_name[index] = value "
   ]
  },
  {
   "cell_type": "code",
   "execution_count": 54,
   "id": "dd9b0ca2-1f77-4157-b08d-efebb7a59d18",
   "metadata": {},
   "outputs": [
    {
     "name": "stdout",
     "output_type": "stream",
     "text": [
      "Languages = ['css', 'javascript', 'python']\n"
     ]
    }
   ],
   "source": [
    "Languages = ['css', 'java', 'python']\n",
    "Languages[1] = 'javascript'\n",
    "print(f'Languages = {Languages}')"
   ]
  },
  {
   "cell_type": "markdown",
   "id": "3501a6bc-b463-4f02-a795-79ab3a9af437",
   "metadata": {},
   "source": [
    "##### MULTIPLE ITEMS : BY PASSING RANGE OF AN INDEX\n",
    "- SYNTAX : list_name[index(start):index(end)]"
   ]
  },
  {
   "cell_type": "code",
   "execution_count": 55,
   "id": "6bd774a0-7c68-4847-9818-40aedbcb392f",
   "metadata": {},
   "outputs": [
    {
     "name": "stdout",
     "output_type": "stream",
     "text": [
      "Num = [1, 2, 'Java', 'Python', 6]\n"
     ]
    }
   ],
   "source": [
    "Num = [1, 2, 3, 4, 5, 6]\n",
    "Num[2:5] = ['Java','Python']\n",
    "print(f'Num = {Num}')"
   ]
  },
  {
   "cell_type": "markdown",
   "id": "5cd9431d-b168-407a-8e25-2c6bddcc98e4",
   "metadata": {},
   "source": [
    "### REMOVE METHOD\n",
    "- Remove the specified item from list\n",
    "- SYNTAX : List_name.remove[item]"
   ]
  },
  {
   "cell_type": "code",
   "execution_count": 57,
   "id": "9a2d1041-12ce-456b-8edc-44bfb6823d9a",
   "metadata": {},
   "outputs": [
    {
     "name": "stdout",
     "output_type": "stream",
     "text": [
      "names = ['Bhushan', 'Akshay']\n"
     ]
    }
   ],
   "source": [
    "names = ['Bhushan','Akshay','Rohit']\n",
    "names.remove('Rohit')\n",
    "print(f'names = {names}')"
   ]
  },
  {
   "cell_type": "markdown",
   "id": "6d873b06-f56d-4fa0-961a-45be4cf8c67e",
   "metadata": {},
   "source": [
    "### POP METHOD\n",
    "- Remove an item at specified index.\n",
    "- When index not specified then it remove last element.\n",
    "- SYNTAX : list_name.pop(index)"
   ]
  },
  {
   "cell_type": "code",
   "execution_count": 123,
   "id": "53852048-e6be-42d8-a4f4-c02eaa103a3f",
   "metadata": {},
   "outputs": [
    {
     "name": "stdout",
     "output_type": "stream",
     "text": [
      "POP(1) : fruits = ['apple', 'graphes', 'dragon fruits']\n",
      "POP() : fruits = ['apple', 'graphes']\n",
      "Deleted Items = ['pineapple', 'dragon fruits']\n"
     ]
    }
   ],
   "source": [
    "fruits = ['apple','pineapple','graphes','dragon fruits',]\n",
    "d = []\n",
    "x = fruits.pop(1)\n",
    "d.append(x)\n",
    "print(f'POP(1) : fruits = {fruits}')\n",
    "x = fruits.pop()\n",
    "d.append(x)\n",
    "print(f'POP() : fruits = {fruits}')\n",
    "print(f'Deleted Items = {d}')"
   ]
  },
  {
   "cell_type": "markdown",
   "id": "99978ee7-324e-488e-9909-9f9e80f252e4",
   "metadata": {},
   "source": [
    "### DEL KEYWORD\n",
    "- del list_name[index] : removes element at specified index\n",
    "- del list_name[index(start):index(end)]\n",
    "- del list_name : delete the list ( list no longer exists )"
   ]
  },
  {
   "cell_type": "code",
   "execution_count": 66,
   "id": "e02b7ca2-97bd-4294-be2f-9e721b84a7e4",
   "metadata": {},
   "outputs": [
    {
     "name": "stdout",
     "output_type": "stream",
     "text": [
      "del n[2] : n = [0, 1, 3, 4, 5, 6, 7, 8, 9]\n",
      "del n[3:7] : n = [0, 1, 3, 8, 9]\n"
     ]
    }
   ],
   "source": [
    "n = [0, 1, 2, 3, 4, 5, 6, 7, 8, 9]\n",
    "del n[2]\n",
    "print(f'del n[2] : n = {n}')\n",
    "del n[3:7]\n",
    "print(f'del n[3:7] : n = {n}')\n",
    "del n"
   ]
  },
  {
   "cell_type": "code",
   "execution_count": null,
   "id": "586c7186-e741-427f-aafa-be1ce8a2b7fe",
   "metadata": {},
   "outputs": [],
   "source": []
  },
  {
   "cell_type": "markdown",
   "id": "0498f693-31f9-4ba7-9268-e8364ba6f780",
   "metadata": {},
   "source": [
    "### CLEAR METHODD\n",
    "- It makess the list empty\n",
    "- SYNTAX : list_name.clear()"
   ]
  },
  {
   "cell_type": "code",
   "execution_count": 109,
   "id": "9fbf8c34-d484-4309-9bbe-02078c0e820d",
   "metadata": {},
   "outputs": [
    {
     "name": "stdout",
     "output_type": "stream",
     "text": [
      "n=[]\n"
     ]
    }
   ],
   "source": [
    "n = [1,2,3]\n",
    "n.clear()\n",
    "print(f'n={n}')"
   ]
  },
  {
   "cell_type": "markdown",
   "id": "09fb988a-3485-4e24-83e5-71f4b7e9e0d2",
   "metadata": {},
   "source": [
    "### COPY METHOD\n",
    "- You cannot copy a list simply by typing list2 = list1, because: list2 will only be a reference to list1, and changes made in list1 will automatically also be made in list2.\n",
    "- SYNTAX : list_name.copy()"
   ]
  },
  {
   "cell_type": "code",
   "execution_count": 110,
   "id": "96482115-1ddc-4ae3-b9d7-79c7216b3997",
   "metadata": {},
   "outputs": [
    {
     "name": "stdout",
     "output_type": "stream",
     "text": [
      "['apple', 'banana', 'cherry']\n"
     ]
    }
   ],
   "source": [
    "thislist = [\"apple\", \"banana\", \"cherry\"]\n",
    "mylist = thislist.copy()\n",
    "print(mylist)"
   ]
  },
  {
   "cell_type": "code",
   "execution_count": 124,
   "id": "5b5523ef-5d77-4f8f-a055-c71b68d4cd64",
   "metadata": {},
   "outputs": [
    {
     "name": "stdout",
     "output_type": "stream",
     "text": [
      "['apple', 'banana', 'cherry']\n"
     ]
    }
   ],
   "source": [
    "# ANOTHER WAY COPY IS USING list()\n",
    "thislist = [\"apple\", \"banana\", \"cherry\"]\n",
    "mylist = list(thislist)\n",
    "print(mylist)"
   ]
  },
  {
   "cell_type": "markdown",
   "id": "78d35638-d037-41a9-8d61-268eaacbf5cf",
   "metadata": {},
   "source": [
    "### LIST COMPREHENSION\n",
    "- Provides a shorter syntax while creating a new list from the existing list.\n",
    "- SYNTAX : list_name = [ expression for item in iterable if condition == True ]"
   ]
  },
  {
   "cell_type": "code",
   "execution_count": 137,
   "id": "7ce3d86a-0d21-409b-965f-b14bf5616b6a",
   "metadata": {},
   "outputs": [
    {
     "name": "stdout",
     "output_type": "stream",
     "text": [
      "['apple', 'banana', 'mango']\n"
     ]
    }
   ],
   "source": [
    "fruits = [\"apple\", \"banana\", \"cherry\", \"kiwi\", \"mango\"]\n",
    "newlist = []\n",
    "for x in fruits:\n",
    "  if \"a\" in x:\n",
    "    newlist.append(x)\n",
    "print(newlist)"
   ]
  },
  {
   "cell_type": "code",
   "execution_count": 138,
   "id": "8adc9790-dd5b-47c7-9539-e8de70e968dd",
   "metadata": {},
   "outputs": [
    {
     "name": "stdout",
     "output_type": "stream",
     "text": [
      "['apple', 'banana', 'mango']\n"
     ]
    }
   ],
   "source": [
    "fruits = [\"apple\", \"banana\", \"cherry\", \"kiwi\", \"mango\"]\n",
    "newlist = [x for x in fruits if \"a\" in x]\n",
    "print(newlist)"
   ]
  },
  {
   "cell_type": "markdown",
   "id": "7ce5490b-bdad-48f7-8030-f0c77d48facf",
   "metadata": {},
   "source": [
    "##### CONDITION : The condition is like a filter that only accepts the items that valuate to True."
   ]
  },
  {
   "cell_type": "code",
   "execution_count": 139,
   "id": "0a5835ff-f86e-48e0-9f2b-0053875916a8",
   "metadata": {},
   "outputs": [
    {
     "name": "stdout",
     "output_type": "stream",
     "text": [
      "['banana', 'cherry', 'kiwi', 'mango']\n"
     ]
    }
   ],
   "source": [
    "newlist = [x for x in fruits if x != \"apple\"]\n",
    "print(newlist)"
   ]
  },
  {
   "cell_type": "code",
   "execution_count": 140,
   "id": "b70dcd21-fe5f-408b-8a31-77008a1f2fd6",
   "metadata": {},
   "outputs": [
    {
     "name": "stdout",
     "output_type": "stream",
     "text": [
      "['apple', 'banana', 'cherry', 'kiwi', 'mango']\n"
     ]
    }
   ],
   "source": [
    "newlist = [x for x in fruits]\n",
    "print(newlist)"
   ]
  },
  {
   "cell_type": "markdown",
   "id": "531e6352-3cf0-4a67-883d-519fe037b249",
   "metadata": {},
   "source": [
    "##### ITERABLE : The iterable can be any iterable object, like a list, tuple, set etc."
   ]
  },
  {
   "cell_type": "code",
   "execution_count": 143,
   "id": "b146ec6b-d251-449a-b7c8-0348daa6ca8e",
   "metadata": {},
   "outputs": [
    {
     "name": "stdout",
     "output_type": "stream",
     "text": [
      "[0, 1, 2, 3, 4, 5, 6, 7, 8, 9]\n"
     ]
    }
   ],
   "source": [
    "newlist = [x for x in range(10)]\n",
    "print(newlist)"
   ]
  },
  {
   "cell_type": "code",
   "execution_count": 144,
   "id": "ff23abfb-b53c-46d1-b5e9-843de6151655",
   "metadata": {},
   "outputs": [
    {
     "name": "stdout",
     "output_type": "stream",
     "text": [
      "[0, 1, 2, 3, 4]\n"
     ]
    }
   ],
   "source": [
    "newlist = [x for x in range(10) if x < 5]\n",
    "print(newlist)"
   ]
  },
  {
   "cell_type": "markdown",
   "id": "96b8cd16-2ef7-4186-b097-ea465bebfab4",
   "metadata": {},
   "source": [
    "##### EXPRESSION : The expression is the current item in the iteration, but it is also the outcome, which you can manipulate before it ends up like a list item in the new list:"
   ]
  },
  {
   "cell_type": "code",
   "execution_count": 146,
   "id": "0e5c4f58-c5a7-447e-b0fd-33854741e918",
   "metadata": {},
   "outputs": [
    {
     "name": "stdout",
     "output_type": "stream",
     "text": [
      "['APPLE', 'BANANA', 'CHERRY', 'KIWI', 'MANGO']\n"
     ]
    }
   ],
   "source": [
    "newlist = [x.upper() for x in fruits]\n",
    "print(newlist)"
   ]
  },
  {
   "cell_type": "code",
   "execution_count": 147,
   "id": "481e0abb-91e8-483b-9b8e-3b5f4427df99",
   "metadata": {},
   "outputs": [
    {
     "name": "stdout",
     "output_type": "stream",
     "text": [
      "['hello', 'hello', 'hello', 'hello', 'hello']\n"
     ]
    }
   ],
   "source": [
    "newlist = ['hello' for x in fruits]\n",
    "print(newlist)"
   ]
  },
  {
   "cell_type": "code",
   "execution_count": 148,
   "id": "4fbd0348-445b-4102-990e-aa815a5de008",
   "metadata": {},
   "outputs": [
    {
     "name": "stdout",
     "output_type": "stream",
     "text": [
      "['apple', 'orange', 'cherry', 'kiwi', 'mango']\n"
     ]
    }
   ],
   "source": [
    "newlist = [x if x != \"banana\" else \"orange\" for x in fruits]\n",
    "print(newlist)"
   ]
  },
  {
   "cell_type": "markdown",
   "id": "6899e58b-61b3-460c-9434-a9cf174b55e4",
   "metadata": {},
   "source": [
    "### LENGTH METHOD\n",
    "- To Get the Number o Elements in the list.\n",
    "- SYNTAX : len(iterable)"
   ]
  },
  {
   "cell_type": "code",
   "execution_count": 108,
   "id": "67adcdb4-5fa9-4895-b95b-9e7da62e4436",
   "metadata": {},
   "outputs": [
    {
     "name": "stdout",
     "output_type": "stream",
     "text": [
      "NUMBER OF ELEMENTS : 5\n"
     ]
    }
   ],
   "source": [
    "names = ['John', 'James', 'Emmy', 'Michael', 'Jimmy']\n",
    "print(f'NUMBER OF ELEMENTS : {len(names)}')"
   ]
  },
  {
   "cell_type": "markdown",
   "id": "6102b122-2ca8-4b89-a12e-2c5588cfe864",
   "metadata": {},
   "source": [
    "### COUNT METHOD\n",
    "- To know the number of appearances of 'x' element\n",
    "- SYNTAX : list_name.count()"
   ]
  },
  {
   "cell_type": "code",
   "execution_count": 150,
   "id": "d67ffa4c-c0cc-449e-a00d-294359782ca5",
   "metadata": {},
   "outputs": [
    {
     "name": "stdout",
     "output_type": "stream",
     "text": [
      "NUMBER OF APPEARANCE OF ELEMENT \"John\" : 3\n"
     ]
    }
   ],
   "source": [
    "names = ['John', 'James', 'John', 'John', 'Jimmy']\n",
    "print(f'NUMBER OF APPEARANCE OF ELEMENT \"John\" : {names.count('John')}')"
   ]
  },
  {
   "cell_type": "markdown",
   "id": "c7a19f44-2219-4b30-a9e5-9e42bce03baf",
   "metadata": {},
   "source": [
    "### INDEX METHOD\n",
    "- SYNTAX : list_name.index(item)"
   ]
  },
  {
   "cell_type": "code",
   "execution_count": 156,
   "id": "da0008bb-bb07-4497-acb6-b58f82ccf0ad",
   "metadata": {},
   "outputs": [
    {
     "name": "stdout",
     "output_type": "stream",
     "text": [
      "INDEX OF ITEM \"John\" : index = 0\n"
     ]
    }
   ],
   "source": [
    "names = ['John', 'James', 'Emma', 'John', 'Jimmy']\n",
    "print(f'INDEX OF ITEM \"John\" : index = {names.index('John')}')"
   ]
  },
  {
   "cell_type": "markdown",
   "id": "0cc1c9e8-73e8-4a11-b6d5-7dd624395a78",
   "metadata": {},
   "source": [
    "### REVERSE METHOD\n",
    "- SYNTAX : list_name.reverse()"
   ]
  },
  {
   "cell_type": "code",
   "execution_count": 157,
   "id": "9f730b99-1012-48b6-b775-ca275362551a",
   "metadata": {},
   "outputs": [],
   "source": [
    "fruits = ['apple', 'banana', 'cherry']\n",
    "fruits.reverse()\n",
    "print(fruits)"
   ]
  },
  {
   "cell_type": "markdown",
   "id": "a7605a78-8f86-4bf0-9900-0cdc768101ff",
   "metadata": {},
   "source": [
    "### FOR LOOP"
   ]
  },
  {
   "cell_type": "markdown",
   "id": "8825d749-15cf-4141-bfc2-040080d26a03",
   "metadata": {},
   "source": [
    "##### THROUGH LIST ITEMS"
   ]
  },
  {
   "cell_type": "code",
   "execution_count": 113,
   "id": "c590dc7b-bb60-443d-9485-ea4959f708eb",
   "metadata": {},
   "outputs": [
    {
     "name": "stdout",
     "output_type": "stream",
     "text": [
      "apple\n",
      "banana\n",
      "cherry\n"
     ]
    }
   ],
   "source": [
    "thislist = [\"apple\", \"banana\", \"cherry\"]\n",
    "for x in thislist:\n",
    "  print(x)"
   ]
  },
  {
   "cell_type": "markdown",
   "id": "287eeed0-f175-4a59-a5de-dbcf4103373e",
   "metadata": {},
   "source": [
    "##### THROUGH INDEX NUMBERS"
   ]
  },
  {
   "cell_type": "code",
   "execution_count": 114,
   "id": "c4ad1e2d-e119-4e42-a5fb-f1366285b473",
   "metadata": {},
   "outputs": [
    {
     "name": "stdout",
     "output_type": "stream",
     "text": [
      "apple\n",
      "banana\n",
      "cherry\n"
     ]
    }
   ],
   "source": [
    "thislist = [\"apple\", \"banana\", \"cherry\"]\n",
    "for i in range(len(thislist)):\n",
    "  print(thislist[i])"
   ]
  },
  {
   "cell_type": "markdown",
   "id": "4589190e-fe66-4331-884d-4dbaef9de690",
   "metadata": {},
   "source": [
    "### WHILE LOOP"
   ]
  },
  {
   "cell_type": "code",
   "execution_count": 115,
   "id": "69fd29a8-86e9-4c3b-b0ef-4e0aa16158d2",
   "metadata": {},
   "outputs": [
    {
     "name": "stdout",
     "output_type": "stream",
     "text": [
      "apple\n",
      "banana\n",
      "cherry\n"
     ]
    }
   ],
   "source": [
    "thislist = [\"apple\", \"banana\", \"cherry\"]\n",
    "i = 0\n",
    "while i < len(thislist):\n",
    "  print(thislist[i])\n",
    "  i = i + 1"
   ]
  },
  {
   "cell_type": "markdown",
   "id": "ebdfb39b-8102-4ba0-8f12-168c42fa911a",
   "metadata": {},
   "source": [
    "### SORTING\n",
    "- SYNTAX : list_name.sort()\n",
    "- SYNTAX : list_name.sort(reverse=True)"
   ]
  },
  {
   "cell_type": "markdown",
   "id": "99923f7c-f96e-466b-a8af-31fe84611e7b",
   "metadata": {},
   "source": [
    "##### ALPHA-NUMERICALLY SORT"
   ]
  },
  {
   "cell_type": "code",
   "execution_count": 117,
   "id": "8c56832d-61d7-4dbd-b914-dc009444b637",
   "metadata": {},
   "outputs": [
    {
     "name": "stdout",
     "output_type": "stream",
     "text": [
      "['banana', 'kiwi', 'mango', 'orange', 'pineapple']\n"
     ]
    }
   ],
   "source": [
    "thislist = [\"orange\", \"mango\", \"kiwi\", \"pineapple\", \"banana\"]\n",
    "thislist.sort()\n",
    "print(thislist)"
   ]
  },
  {
   "cell_type": "code",
   "execution_count": 118,
   "id": "5c3936af-0eda-490b-aefe-452173f02d9c",
   "metadata": {},
   "outputs": [
    {
     "name": "stdout",
     "output_type": "stream",
     "text": [
      "[23, 50, 65, 82, 100]\n"
     ]
    }
   ],
   "source": [
    "thislist = [100, 50, 65, 82, 23]\n",
    "thislist.sort()\n",
    "print(thislist)"
   ]
  },
  {
   "cell_type": "markdown",
   "id": "01d971ca-5309-4b6a-8223-fae5b390d590",
   "metadata": {},
   "source": [
    "##### SORT IN DESCENDING ORDER : By default ascending order"
   ]
  },
  {
   "cell_type": "code",
   "execution_count": 120,
   "id": "16408012-f05e-4d90-8a49-4c23fc152c9f",
   "metadata": {},
   "outputs": [
    {
     "name": "stdout",
     "output_type": "stream",
     "text": [
      "['pineapple', 'orange', 'mango', 'kiwi', 'banana']\n"
     ]
    }
   ],
   "source": [
    "thislist = [\"orange\", \"mango\", \"kiwi\", \"pineapple\", \"banana\"]\n",
    "thislist.sort(reverse = True)\n",
    "print(thislist)"
   ]
  },
  {
   "cell_type": "code",
   "execution_count": 121,
   "id": "98278510-425a-4d46-831b-490e701e9eee",
   "metadata": {},
   "outputs": [
    {
     "name": "stdout",
     "output_type": "stream",
     "text": [
      "[100, 82, 65, 50, 23]\n"
     ]
    }
   ],
   "source": [
    "thislist = [100, 50, 65, 82, 23]\n",
    "thislist.sort(reverse = True)\n",
    "print(thislist)"
   ]
  },
  {
   "cell_type": "markdown",
   "id": "9358f399-520d-4737-b8ac-53f1309d1395",
   "metadata": {},
   "source": [
    "##### CASE INSENSITIVE SORT : All capital letters being sorted before lower case letters:"
   ]
  },
  {
   "cell_type": "code",
   "execution_count": 122,
   "id": "3901cd03-aa8a-4895-9dc2-1759499c57fd",
   "metadata": {},
   "outputs": [
    {
     "name": "stdout",
     "output_type": "stream",
     "text": [
      "['Kiwi', 'Orange', 'banana', 'cherry']\n"
     ]
    }
   ],
   "source": [
    "thislist = [\"banana\", \"Orange\", \"Kiwi\", \"cherry\"]\n",
    "thislist.sort()\n",
    "print(thislist)"
   ]
  },
  {
   "cell_type": "code",
   "execution_count": 129,
   "id": "ae4fe181-d618-4190-9e8e-bdb485736070",
   "metadata": {},
   "outputs": [
    {
     "name": "stdout",
     "output_type": "stream",
     "text": [
      "['banana', 'cherry', 'Kiwi', 'Orange']\n"
     ]
    }
   ],
   "source": [
    "thislist = [\"banana\", \"Orange\", \"Kiwi\", \"cherry\"]\n",
    "thislist.sort(key = str.lower)\n",
    "print(thislist)"
   ]
  },
  {
   "cell_type": "markdown",
   "id": "db9ab93c-84dc-4cad-9dfd-3ce849351b78",
   "metadata": {},
   "source": [
    "##### CUSTOMIZE SORT FUNCTION"
   ]
  },
  {
   "cell_type": "code",
   "execution_count": 130,
   "id": "e01487a7-7ba4-47a6-a700-c7cf78999c03",
   "metadata": {},
   "outputs": [
    {
     "name": "stdout",
     "output_type": "stream",
     "text": [
      "[50, 65, 23, 82, 100]\n"
     ]
    }
   ],
   "source": [
    "def myfunc(n):\n",
    "  return abs(n - 50)\n",
    "thislist = [100, 50, 65, 82, 23]\n",
    "thislist.sort(key = myfunc)\n",
    "print(thislist)"
   ]
  },
  {
   "cell_type": "code",
   "execution_count": null,
   "id": "a86f588a-cccc-4ee5-902e-e30c8472a82b",
   "metadata": {},
   "outputs": [],
   "source": []
  },
  {
   "cell_type": "markdown",
   "id": "e2c2a17b-3781-4ac5-81c7-b6c8a99f8b40",
   "metadata": {},
   "source": [
    "### SLICING"
   ]
  },
  {
   "cell_type": "code",
   "execution_count": 22,
   "id": "fbfd7fba-3d67-4566-a85b-c318f404d67b",
   "metadata": {},
   "outputs": [
    {
     "name": "stdout",
     "output_type": "stream",
     "text": [
      "['Varun', 'Ranvindar', 'Amrit', 'Rahul', 'Nitin', 'Prajwal']\n"
     ]
    }
   ],
   "source": [
    "list1 = ['Varun','Ranvindar','Amrit','Rahul','Nitin','Prajwal']\n",
    "print(list1)"
   ]
  },
  {
   "cell_type": "code",
   "execution_count": 23,
   "id": "29a488c8-5542-4db8-99cc-d00caef6dda4",
   "metadata": {},
   "outputs": [
    {
     "name": "stdout",
     "output_type": "stream",
     "text": [
      "['Amrit', 'Rahul']\n"
     ]
    }
   ],
   "source": [
    "# print from index 2 to 3\n",
    "print(list1[2:4])"
   ]
  },
  {
   "cell_type": "code",
   "execution_count": 24,
   "id": "c286a08d-3e5b-478d-9a7e-3421d3d90a50",
   "metadata": {},
   "outputs": [
    {
     "name": "stdout",
     "output_type": "stream",
     "text": [
      "['Varun', 'Ranvindar', 'Amrit', 'Rahul', 'Nitin']\n"
     ]
    }
   ],
   "source": [
    "# print from index 0 to 4\n",
    "print(list1[0:5])"
   ]
  },
  {
   "cell_type": "code",
   "execution_count": 25,
   "id": "1168d53e-c00e-4015-ac39-2b8c89e32189",
   "metadata": {},
   "outputs": [
    {
     "name": "stdout",
     "output_type": "stream",
     "text": [
      "['Varun', 'Ranvindar', 'Amrit', 'Rahul', 'Nitin', 'Prajwal']\n"
     ]
    }
   ],
   "source": [
    "# print from index 0 to -1\n",
    "print(list1[0:])"
   ]
  },
  {
   "cell_type": "code",
   "execution_count": 4,
   "id": "d4f616a2-aa0d-403e-a97c-38b7856c981f",
   "metadata": {},
   "outputs": [
    {
     "name": "stdout",
     "output_type": "stream",
     "text": [
      "['Varun', 'Ranvindar', 'Amrit', 'Rahul', 'Nitin']\n"
     ]
    }
   ],
   "source": [
    "# print from index 0 to -2\n",
    "print(list1[:-1])"
   ]
  },
  {
   "cell_type": "code",
   "execution_count": 5,
   "id": "a15bc155-3da8-4723-bb65-2157e1474fbf",
   "metadata": {},
   "outputs": [
    {
     "name": "stdout",
     "output_type": "stream",
     "text": [
      "['Varun', 'Ranvindar', 'Amrit', 'Rahul', 'Nitin', 'Prajwal']\n"
     ]
    }
   ],
   "source": [
    "# copy of who;e list\n",
    "print(list1[:])"
   ]
  },
  {
   "cell_type": "code",
   "execution_count": 6,
   "id": "25bb9c71-dd65-4a1b-9c8f-177d015f5b5c",
   "metadata": {},
   "outputs": [
    {
     "name": "stdout",
     "output_type": "stream",
     "text": [
      "Prajwal\n"
     ]
    }
   ],
   "source": [
    "# last item of the list\n",
    "print(list1[-1])"
   ]
  },
  {
   "cell_type": "code",
   "execution_count": 7,
   "id": "d428adf7-dead-4d67-960a-ec795029c5e9",
   "metadata": {},
   "outputs": [
    {
     "name": "stdout",
     "output_type": "stream",
     "text": [
      "['Nitin', 'Prajwal']\n"
     ]
    }
   ],
   "source": [
    "# last two items of the list\n",
    "print(list1[-2:])"
   ]
  },
  {
   "cell_type": "code",
   "execution_count": 8,
   "id": "cd72fba8-0ad8-42ad-8897-d10daef45512",
   "metadata": {},
   "outputs": [
    {
     "name": "stdout",
     "output_type": "stream",
     "text": [
      "['Varun', 'Ranvindar', 'Amrit', 'Rahul']\n"
     ]
    }
   ],
   "source": [
    "# everything except last two items\n",
    "print(list1[:-2])"
   ]
  },
  {
   "cell_type": "code",
   "execution_count": 26,
   "id": "69a0be11-75b3-4eff-8919-86b2a9cc5134",
   "metadata": {},
   "outputs": [
    {
     "name": "stdout",
     "output_type": "stream",
     "text": [
      "['Prajwal', 'Nitin', 'Rahul', 'Amrit', 'Ranvindar', 'Varun']\n"
     ]
    }
   ],
   "source": [
    "# All items of lisst, reversed\n",
    "print(list1[::-1])"
   ]
  },
  {
   "cell_type": "code",
   "execution_count": 11,
   "id": "94faf9df-3b5c-4cfe-a6b0-ff44dcc5d51c",
   "metadata": {},
   "outputs": [
    {
     "name": "stdout",
     "output_type": "stream",
     "text": [
      "['Ranvindar', 'Varun']\n"
     ]
    }
   ],
   "source": [
    "# First two items, reversed\n",
    "print(list1[1::-1])"
   ]
  },
  {
   "cell_type": "code",
   "execution_count": 28,
   "id": "e3696a7c-a9a6-4b9b-8519-dcc1b7e8777a",
   "metadata": {},
   "outputs": [
    {
     "name": "stdout",
     "output_type": "stream",
     "text": [
      "['Rahul', 'Amrit', 'Ranvindar', 'Varun']\n"
     ]
    }
   ],
   "source": [
    "# everything except the last two items\n",
    "print(list1[-3::-1])"
   ]
  },
  {
   "cell_type": "code",
   "execution_count": 27,
   "id": "458dd4f5-27fb-447a-9a8f-bba135045efc",
   "metadata": {},
   "outputs": [
    {
     "name": "stdout",
     "output_type": "stream",
     "text": [
      "['Prajwal', 'Nitin']\n"
     ]
    }
   ],
   "source": [
    "# last two items, reversed\n",
    "print(list1[:-3:-1])"
   ]
  },
  {
   "cell_type": "markdown",
   "id": "9f355a71-5ce5-4290-a9a9-c1f82c3d0290",
   "metadata": {},
   "source": [
    "### CONCATENATION"
   ]
  },
  {
   "cell_type": "code",
   "execution_count": 17,
   "id": "49ca90f8-cf1b-4623-883a-9ec270b0d672",
   "metadata": {},
   "outputs": [
    {
     "name": "stdout",
     "output_type": "stream",
     "text": [
      "[1, 3, 5, 7, 9, 2, 4, 6, 8, 10]\n"
     ]
    }
   ],
   "source": [
    "# list1 is a list of first 5 odd integers\n",
    "list1 = [1, 3, 5, 7, 9]\n",
    "# list2 is a list o firsst 5 even integers\n",
    "list2 = [2, 4, 6, 8, 10]\n",
    "# Concatenattion \n",
    "print(list1 + list2)"
   ]
  },
  {
   "cell_type": "markdown",
   "id": "8a1b8701-29e7-4959-b059-4a353f6c4329",
   "metadata": {},
   "source": [
    "### REPETITION"
   ]
  },
  {
   "cell_type": "code",
   "execution_count": 18,
   "id": "c3a3b22e-6028-46a5-9db0-fc5e3e262312",
   "metadata": {},
   "outputs": [
    {
     "name": "stdout",
     "output_type": "stream",
     "text": [
      "['Hello', 'Hello', 'Hello', 'Hello', 'Hello']\n"
     ]
    }
   ],
   "source": [
    "list4 = ['Hello']\n",
    "print( list4 * 5 )"
   ]
  },
  {
   "cell_type": "markdown",
   "id": "f30d345f-ec01-4e06-8d9f-7e54568e9ce7",
   "metadata": {},
   "source": [
    "### MEMBERSHIP"
   ]
  },
  {
   "cell_type": "code",
   "execution_count": 19,
   "id": "28b75825-22c6-4572-ad5e-29a2c054d159",
   "metadata": {},
   "outputs": [
    {
     "name": "stdout",
     "output_type": "stream",
     "text": [
      "True\n"
     ]
    }
   ],
   "source": [
    "list5 = ['arun','Ravindar','Amrit']\n",
    "print('Amrit' in list5)"
   ]
  },
  {
   "cell_type": "code",
   "execution_count": 20,
   "id": "df57477d-edf4-40ed-9986-594302e415f4",
   "metadata": {},
   "outputs": [
    {
     "name": "stdout",
     "output_type": "stream",
     "text": [
      "False\n"
     ]
    }
   ],
   "source": [
    "print('Nitin' in list5)"
   ]
  },
  {
   "cell_type": "code",
   "execution_count": null,
   "id": "e4cb5864-d071-46e9-a6e5-25de57fea4e6",
   "metadata": {},
   "outputs": [],
   "source": []
  }
 ],
 "metadata": {
  "kernelspec": {
   "display_name": "Python 3 (ipykernel)",
   "language": "python",
   "name": "python3"
  },
  "language_info": {
   "codemirror_mode": {
    "name": "ipython",
    "version": 3
   },
   "file_extension": ".py",
   "mimetype": "text/x-python",
   "name": "python",
   "nbconvert_exporter": "python",
   "pygments_lexer": "ipython3",
   "version": "3.12.4"
  }
 },
 "nbformat": 4,
 "nbformat_minor": 5
}
